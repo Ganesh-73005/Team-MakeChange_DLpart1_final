{
  "nbformat": 4,
  "nbformat_minor": 0,
  "metadata": {
    "colab": {
      "provenance": [],
      "gpuType": "T4"
    },
    "kernelspec": {
      "name": "python3",
      "display_name": "Python 3"
    },
    "language_info": {
      "name": "python"
    },
    "accelerator": "GPU"
  },
  "cells": [
    {
      "cell_type": "code",
      "execution_count": 1,
      "metadata": {
        "id": "M_DJxLHjmuVU"
      },
      "outputs": [],
      "source": [
        "import requests\n",
        "import bs4\n",
        "import re\n",
        "import csv"
      ]
    },
    {
      "cell_type": "markdown",
      "source": [
        "checking connection"
      ],
      "metadata": {
        "id": "tM6ZIf8tm_H6"
      }
    },
    {
      "cell_type": "code",
      "source": [
        "\n",
        "try:\n",
        "    response = requests.get('https://www.google.com')\n",
        "    print(\"Internet connection is working.\")\n",
        "except requests.exceptions.ConnectionError as e:\n",
        "    print(\"No internet connection:\", e)\n"
      ],
      "metadata": {
        "colab": {
          "base_uri": "https://localhost:8080/"
        },
        "id": "VJAvpljum1qs",
        "outputId": "8b57f685-9f32-417d-817e-9f33d6307d66"
      },
      "execution_count": 2,
      "outputs": [
        {
          "output_type": "stream",
          "name": "stdout",
          "text": [
            "Internet connection is working.\n"
          ]
        }
      ]
    },
    {
      "cell_type": "markdown",
      "source": [
        "Get a random blog post from WikiHow"
      ],
      "metadata": {
        "id": "7jfg-lhdnI7h"
      }
    },
    {
      "cell_type": "code",
      "source": [
        "url = \"https://www.wikihow.com/Special:Randomizer\"\n",
        "response = requests.get(url)\n",
        "soup = bs4.BeautifulSoup(response.content, 'html.parser')"
      ],
      "metadata": {
        "id": "7iozbHIQnFxJ"
      },
      "execution_count": 3,
      "outputs": []
    },
    {
      "cell_type": "markdown",
      "source": [
        "Extract subheadings and paragraphs"
      ],
      "metadata": {
        "id": "a8UjNQfrnOV3"
      }
    },
    {
      "cell_type": "code",
      "source": [
        "subheadings = []\n",
        "paragraphs = []\n",
        "\n",
        "for div in soup.find_all('div', {'class': 'step'}):\n",
        "    subheading = div.find('b').text\n",
        "    paragraph = div.text.replace(subheading, '').strip()\n",
        "    subheadings.append(subheading)\n",
        "    paragraphs.append(paragraph)"
      ],
      "metadata": {
        "id": "9uUfM9E4nRQ9"
      },
      "execution_count": 5,
      "outputs": []
    },
    {
      "cell_type": "code",
      "source": [
        "print(subheadings)\n",
        "print(paragraphs)"
      ],
      "metadata": {
        "colab": {
          "base_uri": "https://localhost:8080/"
        },
        "id": "r7tuxAEunyWe",
        "outputId": "50e235fc-9889-424c-87e5-111f99246973"
      },
      "execution_count": 6,
      "outputs": [
        {
          "output_type": "stream",
          "name": "stdout",
          "text": [
            "['Make the forms you need to use for the concrete bricks.', 'Assemble the forms with the two 48 inch (1.2 m) pieces laid parallel.', 'Use a spray can of form release oil to aid in stripping the forms after pouring the concrete into the brick molds.', 'Make the concrete and pour it into the assembled molds.', 'Put a bag of prepared concrete material in a wheelbarrow.', 'Use a shovel to put the concrete into the forms.', 'Strip the forms from the concrete bricks on the next day.', 'Finished.']\n",
            "['This requires basic carpenter tools and a sheet of .75-inch (19 mm) plywood along with 2 x 4-inch (5.1 x 10.2 cm) by 8 feet (2.4 m) lumber. Use 9 x 4 x 3.5 inches (22.9 x 10.2 x 8.9 cm) for your brick dimensions.[1]\\nX\\nResearch source\\n\\n\\n\\n\\n\\nRip the sheet of 3/4 inch plywood down to 12-inch (30.5 cm) wide x 48-inch (1.2 m) long strips. This will give you 8 bricks per strip, and the entire sheet of plywood will give you a total of 64 bricks.\\nCut the side forms down to 2 x 4 inches (5.1 x 10.2 cm). You will need 2 pieces at 48 inches (1.2 m) long for each strip. There will be 9 pieces, 9 inches (22.9 cm) in length.', 'Begin nailing the 9-inch (22.9 cm) pieces between the two 48-inch (1.2 M) strips using either double-headed 16 penny concrete form nails or 3-inch (7.65 cm) deck screws. When finished, you should have 8 spaces 4 inches (5.1cm) wide, 9 inches (22.9 cm) long, and 3.5 inches (8.9 cm) deep.\\n\\nLay the strips of plywood on a flat level area and spread plastic sheeting over it to keep the concrete from bonding with the plastic. The work area will need to be left undisturbed for at least 24 hours.\\nPlace the assembled side form on top of the .75-inch (19 cm) plastic covered plywood strip. Either nail the side forms to the plywood or drive wooden stakes around the sides of the forms to keep the forms from shifting off of the plywood bottom strips.\\nYou can use screws for easier removal, if desired.', '[2]\\nX\\nResearch source\\n\\n\\n\\n\\nTake care not to stain any concrete bricks.', 'This will most likely be the most physically challenging part of making brick from concrete. Using a commercially prepared dry mix of concrete materials is the easiest method. It is often referred to as Sak-crete and normally comes in 40-to-80-pound (18.1-to-36.2 kg) bags, which are then mixed in a wheelbarrow.', 'Make a small hole in the middle of the dry mix using a shovel or a common garden hoe.[3]\\nX\\nResearch source\\n\\n\\n\\n\\n\\nBegin adding small amounts of water in that small hole, preferably from a bucket rather than a hose for better control of the amount of water that is added at any one time.\\nMix the dry material and water together with the hoe or shovel, adding water until you have a concrete consistency that is workable. Use a measuring device for the water to ensure each batch has the same consistency. Too wet and it will want to push up the side and run under the forms. Too dry and it will not want to consolidate, but rather it will leave air voids in your concrete brick.\\nIf desired, you can or rent a small cement mixer from a hardware or home improvement store.', '[4]\\nX\\nResearch source\\n\\n\\n\\n\\n\\nTap on the side of the forms with the brick forms filled. Tapping on the top afterward will force any trapped air out from inside of the concrete.\\nUse a straight edge or 12-inch (30.5 cm) trowel to smooth off the top of the concrete level with the top of the forms. Allow it to dry for 24 hours.\\nIf using the brick to face an existing wall, use a scoring trowel to make groves in the brick. This will aid in mortaring the brick in place.', \"Stack the bricks in a cool area to cure a suggested 2 weeks. Cover them up with a mover's blanket while they are curing and keep the blanket wet and covered with plastic sheeting. This will keep the bricks from cracking during the curing process. Once they have cured, you are ready to use them.\", '']\n"
          ]
        }
      ]
    },
    {
      "cell_type": "markdown",
      "source": [
        "Extract the subheadings and paragraphs using the appropriate HTML tags"
      ],
      "metadata": {
        "id": "CW4vxjk4o4hI"
      }
    },
    {
      "cell_type": "code",
      "source": [
        "\n",
        "subheadings = []\n",
        "paragraphs = []\n",
        "steps = soup.find_all('div', {'class': 'step'})\n",
        "for step in steps:\n",
        "    subheading_element = step.find('b')\n",
        "    if subheading_element is not None:\n",
        "        subheading_text = subheading_element.text.strip().replace('\\n', '')\n",
        "        subheading_text = subheading_text.encode('ascii', errors='ignore').decode()\n",
        "        subheading_text = re.sub(r'\\r', '', subheading_text)\n",
        "        print(subheading_text)\n",
        "        subheadings.append(subheading_text)\n",
        "\n",
        "        #  removes titles and extra links\n",
        "        subheading_element.extract()\n",
        "        for span_tag in step.find_all('span'):\n",
        "            span_tag.extract()\n",
        "\n",
        "    paragraph_text = step.text.strip().replace('\\n', '').replace('  ', ' ')\n",
        "    paragraph_text = paragraph_text.encode('ascii', errors='ignore').decode()\n",
        "    paragraph_text = re.sub(r'\\r', '', paragraph_text)\n",
        "    print(paragraph_text)\n",
        "    paragraphs.append(paragraph_text)\n"
      ],
      "metadata": {
        "colab": {
          "base_uri": "https://localhost:8080/"
        },
        "id": "fpp0Oadvo1Jj",
        "outputId": "3a091b83-a138-4742-818a-dc56b6618ec4"
      },
      "execution_count": 7,
      "outputs": [
        {
          "output_type": "stream",
          "name": "stdout",
          "text": [
            "Make the forms you need to use for the concrete bricks.\n",
            "This requires basic carpenter tools and a sheet of .75-inch (19 mm) plywood along with 2 x 4-inch (5.1 x 10.2 cm) by 8 feet (2.4 m) lumber. Use 9 x 4 x 3.5 inches (22.9 x 10.2 x 8.9 cm) for your brick dimensions.[1]Rip the sheet of 3/4 inch plywood down to 12-inch (30.5 cm) wide x 48-inch (1.2 m) long strips. This will give you 8 bricks per strip, and the entire sheet of plywood will give you a total of 64 bricks.Cut the side forms down to 2 x 4 inches (5.1 x 10.2 cm). You will need 2 pieces at 48 inches (1.2 m) long for each strip. There will be 9 pieces, 9 inches (22.9 cm) in length.\n",
            "Assemble the forms with the two 48 inch (1.2 m) pieces laid parallel.\n",
            "Begin nailing the 9-inch (22.9 cm) pieces between the two 48-inch (1.2 M) strips using either double-headed 16 penny concrete form nails or 3-inch (7.65 cm) deck screws. When finished, you should have 8 spaces 4 inches (5.1cm) wide, 9 inches (22.9 cm) long, and 3.5 inches (8.9 cm) deep.Lay the strips of plywood on a flat level area and spread plastic sheeting over it to keep the concrete from bonding with the plastic. The work area will need to be left undisturbed for at least 24 hours.Place the assembled side form on top of the .75-inch (19 cm) plastic covered plywood strip. Either nail the side forms to the plywood or drive wooden stakes around the sides of the forms to keep the forms from shifting off of the plywood bottom strips.You can use screws for easier removal, if desired.\n",
            "Use a spray can of form release oil to aid in stripping the forms after pouring the concrete into the brick molds.\n",
            "[2]Take care not to stain any concrete bricks.\n",
            "Make the concrete and pour it into the assembled molds.\n",
            "This will most likely be the most physically challenging part of making brick from concrete. Using a commercially prepared dry mix of concrete materials is the easiest method. It is often referred to as Sak-crete and normally comes in 40-to-80-pound (18.1-to-36.2 kg) bags, which are then mixed in a wheelbarrow.\n",
            "Put a bag of prepared concrete material in a wheelbarrow.\n",
            "Make a small hole in the middle of the dry mix using a shovel or a common garden hoe.[3]Begin adding small amounts of water in that small hole, preferably from a bucket rather than a hose for better control of the amount of water that is added at any one time.Mix the dry material and water together with the hoe or shovel, adding water until you have a concrete consistency that is workable. Use a measuring device for the water to ensure each batch has the same consistency. Too wet and it will want to push up the side and run under the forms. Too dry and it will not want to consolidate, but rather it will leave air voids in your concrete brick.If desired, you can or rent a small cement mixer from a hardware or home improvement store.\n",
            "Use a shovel to put the concrete into the forms.\n",
            "[4]Tap on the side of the forms with the brick forms filled. Tapping on the top afterward will force any trapped air out from inside of the concrete.Use a straight edge or 12-inch (30.5 cm) trowel to smooth off the top of the concrete level with the top of the forms. Allow it to dry for 24 hours.If using the brick to face an existing wall, use a scoring trowel to make groves in the brick. This will aid in mortaring the brick in place.\n",
            "Strip the forms from the concrete bricks on the next day.\n",
            "Stack the bricks in a cool area to cure a suggested 2 weeks. Cover them up with a mover's blanket while they are curing and keep the blanket wet and covered with plastic sheeting. This will keep the bricks from cracking during the curing process. Once they have cured, you are ready to use them.\n",
            "Finished.\n",
            "\n"
          ]
        }
      ]
    },
    {
      "cell_type": "markdown",
      "source": [
        "csv generation"
      ],
      "metadata": {
        "id": "YMyOF34UqI-z"
      }
    },
    {
      "cell_type": "code",
      "source": [
        "from bs4 import BeautifulSoup\n",
        "import requests\n",
        "import csv\n",
        "import os\n",
        "import re\n",
        "for count in range(4000):\n",
        "\n",
        "    url = 'https://www.wikihow.com/Special:Randomizer'\n",
        "    response = requests.get(url)\n",
        "    html_content = response.content\n",
        "    soup = BeautifulSoup(html_content, 'html.parser')\n",
        "    article_title = soup.find('title').text.strip()\n",
        "    print(article_title+\" \"+str(count))\n",
        "    subheadings = []\n",
        "    paragraphs = []\n",
        "    steps = soup.find_all('div', { 'class': 'step'})\n",
        "    for step in steps:\n",
        "        subheading_element = step.find('b')\n",
        "        if(subheading_element is not None):\n",
        "            subheading_text = subheading_element.text.strip().replace('\\n','')\n",
        "            subheading_text = subheading_text.encode('ascii', errors='ignore').decode()\n",
        "            subheading_text = re.sub(r'', '', subheading_text)\n",
        "            subheadings.append(subheading_text)\n",
        "            subheading_element.extract()\n",
        "        for span_tag in step.find_all('span'):\n",
        "            span_tag.extract()\n",
        "        paragraph_text = step.text.strip().replace('\\n','').replace('','')\n",
        "        paragraph_text = paragraph_text.encode('ascii', errors='ignore').decode()\n",
        "        paragraph_text = re.sub(r'','', paragraph_text)\n",
        "        paragraphs.append(paragraph_text)\n",
        "    file_path = './working/wikiHow.csv'\n",
        "    file_exists = os.path.exists(file_path)\n",
        "    if len(subheadings):\n",
        "       os.makedirs(os.path.dirname(file_path), exist_ok=True)\n",
        "       with open(file_path, mode='a', newline='', encoding='utf-8') as csv_file:\n",
        "        writer = csv.writer(csv_file)\n",
        "\n",
        "        if not file_exists:\n",
        "            writer.writerow(['Article Title', 'Subheading', 'Paragraph'])\n",
        "\n",
        "        for i in range(len(subheadings)):\n",
        "            writer.writerow([article_title, subheadings[i], paragraphs[i]])"
      ],
      "metadata": {
        "id": "Wc23GOtcqK0V"
      },
      "execution_count": null,
      "outputs": []
    }
  ]
}